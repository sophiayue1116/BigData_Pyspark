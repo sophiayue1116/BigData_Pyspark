{
 "cells": [
  {
   "cell_type": "markdown",
   "metadata": {},
   "source": [
    "# Extra Assignment:\n",
    "## perform join in spark without built-in spark join method"
   ]
  },
  {
   "cell_type": "code",
   "execution_count": 1,
   "metadata": {
    "collapsed": true
   },
   "outputs": [],
   "source": [
    "import pyspark"
   ]
  },
  {
   "cell_type": "markdown",
   "metadata": {},
   "source": [
    "## read input data"
   ]
  },
  {
   "cell_type": "code",
   "execution_count": 2,
   "metadata": {
    "collapsed": false
   },
   "outputs": [
    {
     "name": "stdout",
     "output_type": "stream",
     "text": [
      "8\n"
     ]
    },
    {
     "data": {
      "text/plain": [
       "['A,x,v1',\n",
       " 'A,x,v2',\n",
       " 'A,y,v3',\n",
       " 'A,y,v4',\n",
       " 'A,z,v5',\n",
       " 'B,x,v6',\n",
       " 'B,y,v7',\n",
       " 'B,p,v8']"
      ]
     },
     "execution_count": 2,
     "metadata": {},
     "output_type": "execute_result"
    }
   ],
   "source": [
    "input_path = \"input.txt\"\n",
    "records = spark.sparkContext.textFile(input_path)\n",
    "print(records.count())\n",
    "records.collect()"
   ]
  },
  {
   "cell_type": "markdown",
   "metadata": {},
   "source": [
    "## split the record"
   ]
  },
  {
   "cell_type": "code",
   "execution_count": 3,
   "metadata": {
    "collapsed": false
   },
   "outputs": [
    {
     "name": "stdout",
     "output_type": "stream",
     "text": [
      "8\n"
     ]
    },
    {
     "data": {
      "text/plain": [
       "[['A', 'x', 'v1'],\n",
       " ['A', 'x', 'v2'],\n",
       " ['A', 'y', 'v3'],\n",
       " ['A', 'y', 'v4'],\n",
       " ['A', 'z', 'v5'],\n",
       " ['B', 'x', 'v6'],\n",
       " ['B', 'y', 'v7'],\n",
       " ['B', 'p', 'v8']]"
      ]
     },
     "execution_count": 3,
     "metadata": {},
     "output_type": "execute_result"
    }
   ],
   "source": [
    "records_map = records.map(lambda x: x.split(\",\"))\n",
    "print(records_map.count())\n",
    "records_map.collect()"
   ]
  },
  {
   "cell_type": "markdown",
   "metadata": {},
   "source": [
    "## construct (key, value) pairs"
   ]
  },
  {
   "cell_type": "code",
   "execution_count": 4,
   "metadata": {
    "collapsed": false
   },
   "outputs": [
    {
     "name": "stdout",
     "output_type": "stream",
     "text": [
      "8\n"
     ]
    },
    {
     "data": {
      "text/plain": [
       "[('x', ('A', 'v1')),\n",
       " ('x', ('A', 'v2')),\n",
       " ('y', ('A', 'v3')),\n",
       " ('y', ('A', 'v4')),\n",
       " ('z', ('A', 'v5')),\n",
       " ('x', ('B', 'v6')),\n",
       " ('y', ('B', 'v7')),\n",
       " ('p', ('B', 'v8'))]"
      ]
     },
     "execution_count": 4,
     "metadata": {},
     "output_type": "execute_result"
    }
   ],
   "source": [
    "records_pairs = records_map.map(lambda x: (x[1], (x[0], x[2])))\n",
    "print(records_pairs.count())\n",
    "records_pairs.collect()"
   ]
  },
  {
   "cell_type": "markdown",
   "metadata": {},
   "source": [
    "## groupby key to get (key, iterable tuples)"
   ]
  },
  {
   "cell_type": "code",
   "execution_count": 6,
   "metadata": {
    "collapsed": false
   },
   "outputs": [
    {
     "data": {
      "text/plain": [
       "[('y', [('A', 'v3'), ('A', 'v4'), ('B', 'v7')]),\n",
       " ('p', [('B', 'v8')]),\n",
       " ('x', [('A', 'v1'), ('A', 'v2'), ('B', 'v6')]),\n",
       " ('z', [('A', 'v5')])]"
      ]
     },
     "execution_count": 6,
     "metadata": {},
     "output_type": "execute_result"
    }
   ],
   "source": [
    "grouped = records_pairs.groupByKey()\n",
    "grouped_map = grouped.map(lambda x: (x[0], list(x[1])))\n",
    "grouped_map.collect()"
   ]
  },
  {
   "cell_type": "markdown",
   "metadata": {},
   "source": [
    "## self-defined join function "
   ]
  },
  {
   "cell_type": "code",
   "execution_count": 7,
   "metadata": {
    "collapsed": true
   },
   "outputs": [],
   "source": [
    "def join(x):\n",
    "    A, B = [], []\n",
    "    for ele in x[1]:\n",
    "        if ele[0] == 'A':\n",
    "            A.append(ele[1])\n",
    "        if ele[0] == 'B':\n",
    "            B.append(ele[1])\n",
    "    if not A or not B: return\n",
    "    return [(x[0], (a, b)) for a in A for b in B]\n",
    "    "
   ]
  },
  {
   "cell_type": "markdown",
   "metadata": {},
   "source": [
    "## use join function to in the map, followed by filtering out none value result and finally using flatMap to convert to unnested the results"
   ]
  },
  {
   "cell_type": "code",
   "execution_count": 11,
   "metadata": {
    "collapsed": false
   },
   "outputs": [
    {
     "data": {
      "text/plain": [
       "[('y', ('v3', 'v7')),\n",
       " ('y', ('v4', 'v7')),\n",
       " ('x', ('v1', 'v6')),\n",
       " ('x', ('v2', 'v6'))]"
      ]
     },
     "execution_count": 11,
     "metadata": {},
     "output_type": "execute_result"
    }
   ],
   "source": [
    "result = grouped_map.map(lambda x: join(x)).filter(lambda x: x).flatMap(lambda x: x)\n",
    "result.collect()"
   ]
  },
  {
   "cell_type": "code",
   "execution_count": null,
   "metadata": {
    "collapsed": true
   },
   "outputs": [],
   "source": []
  }
 ],
 "metadata": {
  "kernelspec": {
   "display_name": "Python 3",
   "language": "python",
   "name": "python3"
  },
  "language_info": {
   "codemirror_mode": {
    "name": "ipython",
    "version": 3
   },
   "file_extension": ".py",
   "mimetype": "text/x-python",
   "name": "python",
   "nbconvert_exporter": "python",
   "pygments_lexer": "ipython3",
   "version": "3.6.8"
  }
 },
 "nbformat": 4,
 "nbformat_minor": 2
}
