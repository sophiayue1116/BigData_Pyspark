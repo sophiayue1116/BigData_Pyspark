{
 "cells": [
  {
   "cell_type": "code",
   "execution_count": 1,
   "metadata": {
    "collapsed": true
   },
   "outputs": [],
   "source": [
    "import pyspark\n",
    "from pyspark.sql.functions import lower, col"
   ]
  },
  {
   "cell_type": "code",
   "execution_count": 2,
   "metadata": {
    "collapsed": false
   },
   "outputs": [],
   "source": [
    "input_path = 'whitehouse_waves-2016_12.csv'\n",
    "df = spark.read.format('csv').option('header','true').option('interSchema','true').load(input_path)"
   ]
  },
  {
   "cell_type": "code",
   "execution_count": 3,
   "metadata": {
    "collapsed": false
   },
   "outputs": [
    {
     "name": "stdout",
     "output_type": "stream",
     "text": [
      "root\n",
      " |-- NAMELAST: string (nullable = true)\n",
      " |-- NAMEFIRST: string (nullable = true)\n",
      " |-- NAMEMID: string (nullable = true)\n",
      " |-- UIN: string (nullable = true)\n",
      " |-- BDGNBR: string (nullable = true)\n",
      " |-- ACCESS_TYPE: string (nullable = true)\n",
      " |-- TOA: string (nullable = true)\n",
      " |-- POA: string (nullable = true)\n",
      " |-- TOD: string (nullable = true)\n",
      " |-- POD: string (nullable = true)\n",
      " |-- APPT_MADE_DATE: string (nullable = true)\n",
      " |-- APPT_START_DATE: string (nullable = true)\n",
      " |-- APPT_END_DATE: string (nullable = true)\n",
      " |-- APPT_CANCEL_DATE: string (nullable = true)\n",
      " |-- Total_People: string (nullable = true)\n",
      " |-- LAST_UPDATEDBY: string (nullable = true)\n",
      " |-- POST: string (nullable = true)\n",
      " |-- LASTENTRYDATE: string (nullable = true)\n",
      " |-- TERMINAL_SUFFIX: string (nullable = true)\n",
      " |-- visitee_namelast: string (nullable = true)\n",
      " |-- visitee_namefirst: string (nullable = true)\n",
      " |-- MEETING_LOC: string (nullable = true)\n",
      " |-- MEETING_ROOM: string (nullable = true)\n",
      " |-- CALLER_NAME_LAST: string (nullable = true)\n",
      " |-- CALLER_NAME_FIRST: string (nullable = true)\n",
      " |-- CALLER_ROOM: string (nullable = true)\n",
      " |-- DESCRIPTION: string (nullable = true)\n",
      " |-- Release_Date: string (nullable = true)\n",
      "\n"
     ]
    }
   ],
   "source": [
    "df.printSchema()"
   ]
  },
  {
   "cell_type": "code",
   "execution_count": 4,
   "metadata": {
    "collapsed": false
   },
   "outputs": [
    {
     "name": "stdout",
     "output_type": "stream",
     "text": [
      "970504\n",
      "['NAMELAST', 'NAMEFIRST', 'NAMEMID', 'UIN', 'BDGNBR', 'ACCESS_TYPE', 'TOA', 'POA', 'TOD', 'POD', 'APPT_MADE_DATE', 'APPT_START_DATE', 'APPT_END_DATE', 'APPT_CANCEL_DATE', 'Total_People', 'LAST_UPDATEDBY', 'POST', 'LASTENTRYDATE', 'TERMINAL_SUFFIX', 'visitee_namelast', 'visitee_namefirst', 'MEETING_LOC', 'MEETING_ROOM', 'CALLER_NAME_LAST', 'CALLER_NAME_FIRST', 'CALLER_ROOM', 'DESCRIPTION', 'Release_Date']\n"
     ]
    }
   ],
   "source": [
    "print(df.count())\n",
    "print(df.columns)"
   ]
  },
  {
   "cell_type": "markdown",
   "metadata": {},
   "source": [
    "## select the useful columns"
   ]
  },
  {
   "cell_type": "code",
   "execution_count": 5,
   "metadata": {
    "collapsed": false
   },
   "outputs": [
    {
     "name": "stdout",
     "output_type": "stream",
     "text": [
      "+---------------+---------+-------+----------------+-----------------+\n",
      "|       NAMELAST|NAMEFIRST|NAMEMID|visitee_namelast|visitee_namefirst|\n",
      "+---------------+---------+-------+----------------+-----------------+\n",
      "|TAJOURIBESSASSI|   HANENE|   null|        Pelofsky|             Eric|\n",
      "|        bageant|    laura|      j|     Baskerville|           Steven|\n",
      "|       Broemson|     Earl|      H|     Baskerville|           Steven|\n",
      "+---------------+---------+-------+----------------+-----------------+\n",
      "only showing top 3 rows\n",
      "\n"
     ]
    }
   ],
   "source": [
    "df_select = df.select('NAMELAST','NAMEFIRST', 'NAMEMID', 'visitee_namelast', 'visitee_namefirst')\n",
    "df_select.show(3)"
   ]
  },
  {
   "cell_type": "markdown",
   "metadata": {},
   "source": [
    "## drop invalid records and convert to lowercase"
   ]
  },
  {
   "cell_type": "code",
   "execution_count": 6,
   "metadata": {
    "collapsed": false
   },
   "outputs": [
    {
     "name": "stdout",
     "output_type": "stream",
     "text": [
      "897037\n",
      "+---------------+---------+-------+----------------+-----------------+\n",
      "|       NAMELAST|NAMEFIRST|NAMEMID|visitee_namelast|visitee_namefirst|\n",
      "+---------------+---------+-------+----------------+-----------------+\n",
      "|tajouribessassi|   hanene|   null|        pelofsky|             eric|\n",
      "|        bageant|    laura|      j|     baskerville|           steven|\n",
      "|       broemson|     earl|      h|     baskerville|           steven|\n",
      "|        mccrary|  richard|      l|     baskerville|           steven|\n",
      "|        mulcahy|   joshua|      e|     baskerville|           steven|\n",
      "|           ryan|   oliver|      j|     baskerville|           steven|\n",
      "|         keeler|  douglas|      e|       goldstein|             jeff|\n",
      "|          davis|   justin|      a|            drew|              maj|\n",
      "|         glover|   vinson|      n|         lengyel|            jason|\n",
      "|         ambler|   andrew|      s|          office|         visitors|\n",
      "|         ambler|     john|      s|          office|         visitors|\n",
      "|       anderson|    cindy|      l|          office|         visitors|\n",
      "|       anderson|    wayne|      s|          office|         visitors|\n",
      "|        andrade|   andrea|      m|          office|         visitors|\n",
      "|        arcelle|   jeanne|      l|          office|         visitors|\n",
      "|        arcelle|     mark|   null|          office|         visitors|\n",
      "|         arnold|   curtis|   null|          office|         visitors|\n",
      "|          baade|    kraig|      d|          office|         visitors|\n",
      "|         bailey|  trinity|      n|          office|         visitors|\n",
      "|          baird|    scott|      d|          office|         visitors|\n",
      "+---------------+---------+-------+----------------+-----------------+\n",
      "only showing top 20 rows\n",
      "\n"
     ]
    }
   ],
   "source": [
    "# a. if a visitor's last name (i.e., NAMELAST) is null/empty, then drop that record\n",
    "# b. if visitee_namelast is null/empty, then drop that record\n",
    "# c. convert all characters to lowercase letters\n",
    "# d. If a given visitor's lastname or visitee's last name has non-English characters thenthat record is dropped from all calculations.\n",
    "\n",
    "df_filter = df_select.na.drop(subset=['NAMELAST','visitee_namelast'])\n",
    "df_lower = df_filter.withColumn('NAMELAST', lower(col('NAMELAST'))) \\\n",
    "                    .withColumn('NAMEFIRST', lower(col('NAMEFIRST'))) \\\n",
    "                    .withColumn('NAMEMID', lower(col('NAMEMID'))) \\\n",
    "                    .withColumn('visitee_namelast', lower(col('visitee_namelast'))) \\\n",
    "                    .withColumn('visitee_namefirst', lower(col('visitee_namefirst')))\n",
    "df_letter = df_lower.filter(df_lower.NAMELAST.rlike('^[a-z]+$')).filter(df_lower.visitee_namelast.rlike('^[a-z]+$'))\n",
    "print(df_letter.count())\n",
    "df_letter.show()"
   ]
  },
  {
   "cell_type": "markdown",
   "metadata": {},
   "source": [
    "## save df as table visitlog"
   ]
  },
  {
   "cell_type": "code",
   "execution_count": 7,
   "metadata": {
    "collapsed": false
   },
   "outputs": [],
   "source": [
    "df_letter.createOrReplaceTempView('visitlog')"
   ]
  },
  {
   "cell_type": "markdown",
   "metadata": {},
   "source": [
    "## Q1：The 10 most frequent visitors，（visitor, frequency）"
   ]
  },
  {
   "cell_type": "code",
   "execution_count": 8,
   "metadata": {
    "collapsed": false
   },
   "outputs": [
    {
     "name": "stdout",
     "output_type": "stream",
     "text": [
      "+--------+---------+-------+---------+\n",
      "|NAMELAST|NAMEFIRST|NAMEMID|frequency|\n",
      "+--------+---------+-------+---------+\n",
      "|  thomas| benjamin|      l|      185|\n",
      "|  berner|katherine|      k|      176|\n",
      "|    haas|   jordan|      m|      152|\n",
      "|   grant|  patrick|      c|      151|\n",
      "| kidwell|   lauren|      k|      145|\n",
      "|    haro|   steven|      m|      140|\n",
      "|   garza|   steven|      a|      127|\n",
      "|  strait|     elan|   null|      107|\n",
      "|     lew| shoshana|      m|      102|\n",
      "| zeitlin|   daniel|      l|       98|\n",
      "+--------+---------+-------+---------+\n",
      "\n"
     ]
    }
   ],
   "source": [
    "## (i) The 10 most frequent visitors (NAMELAST, NAMEFIRST, NAMEMID) to the White House. \n",
    "## <visitor> <frequency>\n",
    "df_mf_visitors = spark.sql('select NAMELAST, NAMEFIRST, NAMEMID, count(*) as frequency from visitlog group by NAMELAST, NAMEFIRST, NAMEMID order by frequency desc').limit(10)\n",
    "df_mf_visitors.show()"
   ]
  },
  {
   "cell_type": "markdown",
   "metadata": {},
   "source": [
    "## Q2：The 10 most frequently visited people，（visitee, frequency)"
   ]
  },
  {
   "cell_type": "code",
   "execution_count": 9,
   "metadata": {
    "collapsed": false
   },
   "outputs": [
    {
     "name": "stdout",
     "output_type": "stream",
     "text": [
      "+----------------+-----------------+---------+\n",
      "|visitee_namelast|visitee_namefirst|frequency|\n",
      "+----------------+-----------------+---------+\n",
      "|          office|         visitors|   430721|\n",
      "|           waves|   visitorsoffice|    44115|\n",
      "|          bryant|             ruth|    13970|\n",
      "|           oneil|           olivia|    13155|\n",
      "|        thompson|            jared|    11605|\n",
      "|          burton|           collin|     9672|\n",
      "|           megan|          matthew|     7943|\n",
      "|        mayerson|            asher|     6885|\n",
      "|      dessources|          kalisha|     5285|\n",
      "|           evans|            karen|     2908|\n",
      "+----------------+-----------------+---------+\n",
      "\n"
     ]
    }
   ],
   "source": [
    "## (ii) The 10 most frequently visited people (visitee_namelast, visitee_namefirst) in the White House.\n",
    "## <visitee> <frequency>\n",
    "df_mf_visitee = spark.sql('select visitee_namelast, visitee_namefirst, count(*) as frequency from visitlog group by visitee_namelast, visitee_namefirst order by frequency desc').limit(10)\n",
    "df_mf_visitee.show()"
   ]
  },
  {
   "cell_type": "markdown",
   "metadata": {},
   "source": [
    "## Q3：The 10 most frequently visitor-visitee combinations，（visitor-visitee, frequency)"
   ]
  },
  {
   "cell_type": "code",
   "execution_count": 10,
   "metadata": {
    "collapsed": false
   },
   "outputs": [
    {
     "name": "stdout",
     "output_type": "stream",
     "text": [
      "+--------+---------+-------+----------------+-----------------+---------+\n",
      "|NAMELAST|NAMEFIRST|NAMEMID|visitee_namelast|visitee_namefirst|frequency|\n",
      "+--------+---------+-------+----------------+-----------------+---------+\n",
      "|    haas|   jordan|      m|        yudelson|             alex|       90|\n",
      "|  thomas| benjamin|      l|        yudelson|             alex|       89|\n",
      "|   grant|  patrick|      c|        yudelson|             alex|       88|\n",
      "|  berner|katherine|      k|        yudelson|             alex|       82|\n",
      "|   roche|  shannon|      e|        yudelson|             alex|       70|\n",
      "|  urizar| jennifer|      a|         johnson|            katie|       68|\n",
      "|  martin|  kathryn|   null|         lambrew|           jeanne|       56|\n",
      "| kidwell|   lauren|      k|         abraham|         yohannes|       55|\n",
      "|  berner|katherine|      k|         abraham|         yohannes|       54|\n",
      "|    haas|   jordan|      m|         abraham|         yohannes|       54|\n",
      "+--------+---------+-------+----------------+-----------------+---------+\n",
      "\n"
     ]
    }
   ],
   "source": [
    "## (iii) The 10 most frequent visitor-visitee combinations. <visitor-visitee> <frequency>\n",
    "df_mf_vv = spark.sql('select NAMELAST, NAMEFIRST, NAMEMID, visitee_namelast, visitee_namefirst, count(*) as frequency from visitlog group by NAMELAST, NAMEFIRST, NAMEMID, visitee_namelast, visitee_namefirst order by frequency desc').limit(10)\n",
    "df_mf_vv.show()"
   ]
  },
  {
   "cell_type": "markdown",
   "metadata": {},
   "source": [
    "##  Q4:  The number of records dropped "
   ]
  },
  {
   "cell_type": "code",
   "execution_count": 11,
   "metadata": {
    "collapsed": false
   },
   "outputs": [
    {
     "name": "stdout",
     "output_type": "stream",
     "text": [
      "Q4 The number of records dropped:  73467\n"
     ]
    }
   ],
   "source": [
    "## The number of records dropped.\n",
    "print(\"Q4 The number of records dropped: \", df.count() - df_letter.count())"
   ]
  },
  {
   "cell_type": "code",
   "execution_count": null,
   "metadata": {
    "collapsed": true
   },
   "outputs": [],
   "source": []
  }
 ],
 "metadata": {
  "kernelspec": {
   "display_name": "Python 3",
   "language": "python",
   "name": "python3"
  },
  "language_info": {
   "codemirror_mode": {
    "name": "ipython",
    "version": 3
   },
   "file_extension": ".py",
   "mimetype": "text/x-python",
   "name": "python",
   "nbconvert_exporter": "python",
   "pygments_lexer": "ipython3",
   "version": "3.6.8"
  }
 },
 "nbformat": 4,
 "nbformat_minor": 2
}
