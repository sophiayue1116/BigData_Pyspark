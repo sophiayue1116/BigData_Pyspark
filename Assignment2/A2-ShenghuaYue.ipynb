{
 "cells": [
  {
   "cell_type": "markdown",
   "metadata": {},
   "source": [
    "# Assignment 2: Yue, Shenghua"
   ]
  },
  {
   "cell_type": "code",
   "execution_count": 1,
   "metadata": {
    "collapsed": true
   },
   "outputs": [],
   "source": [
    "import pyspark"
   ]
  },
  {
   "cell_type": "code",
   "execution_count": 2,
   "metadata": {
    "collapsed": false
   },
   "outputs": [
    {
     "name": "stdout",
     "output_type": "stream",
     "text": [
      "20\n"
     ]
    },
    {
     "data": {
      "text/plain": [
       "['U1,M4,4',\n",
       " 'U1,M4,3',\n",
       " 'U1,M2,5',\n",
       " 'U1,M2,0',\n",
       " 'U1,M3,2',\n",
       " 'U2,M4,3',\n",
       " 'U2,M4,4',\n",
       " 'U2,M4,5',\n",
       " 'U3,M1,1',\n",
       " 'U3,M5,6',\n",
       " 'U3,M4,4',\n",
       " 'U3,M4,5',\n",
       " 'U4,M2,3',\n",
       " 'U4,M1,1',\n",
       " 'U4,M1,4',\n",
       " 'U4,M1,5',\n",
       " 'U5,M1,3',\n",
       " 'U5,M1,1',\n",
       " 'U6,M1,3',\n",
       " 'U6,M9,4']"
      ]
     },
     "execution_count": 2,
     "metadata": {},
     "output_type": "execute_result"
    }
   ],
   "source": [
    "# read input data\n",
    "input_path = \"ratings.txt\"\n",
    "records = spark.sparkContext.textFile(input_path)\n",
    "print(records.count())\n",
    "records.collect()"
   ]
  },
  {
   "cell_type": "code",
   "execution_count": 3,
   "metadata": {
    "collapsed": false
   },
   "outputs": [
    {
     "name": "stdout",
     "output_type": "stream",
     "text": [
      "20\n"
     ]
    },
    {
     "data": {
      "text/plain": [
       "[['U1', 'M4', '4'],\n",
       " ['U1', 'M4', '3'],\n",
       " ['U1', 'M2', '5'],\n",
       " ['U1', 'M2', '0'],\n",
       " ['U1', 'M3', '2'],\n",
       " ['U2', 'M4', '3'],\n",
       " ['U2', 'M4', '4'],\n",
       " ['U2', 'M4', '5'],\n",
       " ['U3', 'M1', '1'],\n",
       " ['U3', 'M5', '6'],\n",
       " ['U3', 'M4', '4'],\n",
       " ['U3', 'M4', '5'],\n",
       " ['U4', 'M2', '3'],\n",
       " ['U4', 'M1', '1'],\n",
       " ['U4', 'M1', '4'],\n",
       " ['U4', 'M1', '5'],\n",
       " ['U5', 'M1', '3'],\n",
       " ['U5', 'M1', '1'],\n",
       " ['U6', 'M1', '3'],\n",
       " ['U6', 'M9', '4']]"
      ]
     },
     "execution_count": 3,
     "metadata": {},
     "output_type": "execute_result"
    }
   ],
   "source": [
    "records_map = records.map(lambda x: x.split(\",\"))\n",
    "print(records_map.count())\n",
    "records_map.collect()"
   ]
  },
  {
   "cell_type": "code",
   "execution_count": 4,
   "metadata": {
    "collapsed": false
   },
   "outputs": [
    {
     "name": "stdout",
     "output_type": "stream",
     "text": [
      "18\n"
     ]
    },
    {
     "data": {
      "text/plain": [
       "[['U1', 'M4', '4'],\n",
       " ['U1', 'M4', '3'],\n",
       " ['U1', 'M2', '5'],\n",
       " ['U1', 'M3', '2'],\n",
       " ['U2', 'M4', '3'],\n",
       " ['U2', 'M4', '4'],\n",
       " ['U2', 'M4', '5'],\n",
       " ['U3', 'M1', '1'],\n",
       " ['U3', 'M4', '4'],\n",
       " ['U3', 'M4', '5'],\n",
       " ['U4', 'M2', '3'],\n",
       " ['U4', 'M1', '1'],\n",
       " ['U4', 'M1', '4'],\n",
       " ['U4', 'M1', '5'],\n",
       " ['U5', 'M1', '3'],\n",
       " ['U5', 'M1', '1'],\n",
       " ['U6', 'M1', '3'],\n",
       " ['U6', 'M9', '4']]"
      ]
     },
     "execution_count": 4,
     "metadata": {},
     "output_type": "execute_result"
    }
   ],
   "source": [
    "# filter out the invalid ratings\n",
    "records_filter = records_map.filter(lambda x: int(x[2]) > 0 and int(x[2]) < 6)\n",
    "print(records_filter.count())\n",
    "records_filter.collect()"
   ]
  },
  {
   "cell_type": "code",
   "execution_count": 5,
   "metadata": {
    "collapsed": false
   },
   "outputs": [
    {
     "name": "stdout",
     "output_type": "stream",
     "text": [
      "18\n"
     ]
    },
    {
     "data": {
      "text/plain": [
       "[('M4', 'U1'),\n",
       " ('M4', 'U1'),\n",
       " ('M2', 'U1'),\n",
       " ('M3', 'U1'),\n",
       " ('M4', 'U2'),\n",
       " ('M4', 'U2'),\n",
       " ('M4', 'U2'),\n",
       " ('M1', 'U3'),\n",
       " ('M4', 'U3'),\n",
       " ('M4', 'U3'),\n",
       " ('M2', 'U4'),\n",
       " ('M1', 'U4'),\n",
       " ('M1', 'U4'),\n",
       " ('M1', 'U4'),\n",
       " ('M1', 'U5'),\n",
       " ('M1', 'U5'),\n",
       " ('M1', 'U6'),\n",
       " ('M9', 'U6')]"
      ]
     },
     "execution_count": 5,
     "metadata": {},
     "output_type": "execute_result"
    }
   ],
   "source": [
    "# mapper output as (key, value) pairs\n",
    "records_pairs = records_filter.map(lambda x: (x[1], x[0]))\n",
    "print(records_pairs.count())\n",
    "records_pairs.collect()"
   ]
  },
  {
   "cell_type": "code",
   "execution_count": 6,
   "metadata": {
    "collapsed": false
   },
   "outputs": [
    {
     "name": "stdout",
     "output_type": "stream",
     "text": [
      "5\n"
     ]
    },
    {
     "data": {
      "text/plain": [
       "[('M4', ['U1', 'U1', 'U2', 'U2', 'U2', 'U3', 'U3']),\n",
       " ('M2', ['U1', 'U4']),\n",
       " ('M3', ['U1']),\n",
       " ('M1', ['U3', 'U4', 'U4', 'U4', 'U5', 'U5', 'U6']),\n",
       " ('M9', ['U6'])]"
      ]
     },
     "execution_count": 6,
     "metadata": {},
     "output_type": "execute_result"
    }
   ],
   "source": [
    "reduce_input = records_pairs.groupByKey().map(lambda x: (x[0],list(x[1])))\n",
    "print(reduce_input.count())\n",
    "reduce_input.collect()"
   ]
  },
  {
   "cell_type": "code",
   "execution_count": 8,
   "metadata": {
    "collapsed": false
   },
   "outputs": [
    {
     "name": "stdout",
     "output_type": "stream",
     "text": [
      "3\n"
     ]
    },
    {
     "data": {
      "text/plain": [
       "[('M4', ['U1', 'U1', 'U2', 'U2', 'U2', 'U3', 'U3']),\n",
       " ('M2', ['U1', 'U4']),\n",
       " ('M1', ['U3', 'U4', 'U4', 'U4', 'U5', 'U5', 'U6'])]"
      ]
     },
     "execution_count": 8,
     "metadata": {},
     "output_type": "execute_result"
    }
   ],
   "source": [
    "# filter out total number of raters less than 2\n",
    "reduce_filter = reduce_input.filter(lambda x: len(x[1])>=2)\n",
    "print(reduce_filter.count())\n",
    "reduce_filter.collect()"
   ]
  },
  {
   "cell_type": "code",
   "execution_count": 9,
   "metadata": {
    "collapsed": false
   },
   "outputs": [
    {
     "name": "stdout",
     "output_type": "stream",
     "text": [
      "3\n"
     ]
    },
    {
     "data": {
      "text/plain": [
       "[('M4', (7, 3)), ('M2', (2, 2)), ('M1', (7, 4))]"
      ]
     },
     "execution_count": 9,
     "metadata": {},
     "output_type": "execute_result"
    }
   ],
   "source": [
    "# reducer output \n",
    "reduce_output = reduce_filter.map(lambda x: (x[0], (len(x[1]), len(set(x[1])))))\n",
    "print(reduce_output.count())\n",
    "reduce_output.collect()"
   ]
  },
  {
   "cell_type": "code",
   "execution_count": null,
   "metadata": {
    "collapsed": true
   },
   "outputs": [],
   "source": []
  }
 ],
 "metadata": {
  "kernelspec": {
   "display_name": "Python 3",
   "language": "python",
   "name": "python3"
  },
  "language_info": {
   "codemirror_mode": {
    "name": "ipython",
    "version": 3
   },
   "file_extension": ".py",
   "mimetype": "text/x-python",
   "name": "python",
   "nbconvert_exporter": "python",
   "pygments_lexer": "ipython3",
   "version": "3.6.8"
  }
 },
 "nbformat": 4,
 "nbformat_minor": 2
}
