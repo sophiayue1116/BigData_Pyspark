{
 "cells": [
  {
   "cell_type": "markdown",
   "metadata": {},
   "source": [
    "Connected Components of Graphframe in Pyspark"
   ]
  },
  {
   "cell_type": "code",
   "execution_count": 2,
   "metadata": {
    "collapsed": true
   },
   "outputs": [],
   "source": [
    "import pyspark\n",
    "from pyspark import SparkContext, SparkConf\n",
    "from pyspark.sql import Row\n",
    "from graphframes import *\n",
    "import timeit"
   ]
  },
  {
   "cell_type": "code",
   "execution_count": 3,
   "metadata": {
    "collapsed": false
   },
   "outputs": [
    {
     "data": {
      "text/plain": [
       "26025"
      ]
     },
     "execution_count": 3,
     "metadata": {},
     "output_type": "execute_result"
    }
   ],
   "source": [
    "start = timeit.default_timer()\n",
    "input_path = 'p2p-Gnutella09.txt'\n",
    "records = sc.textFile(input_path)\n",
    "records_txt = records.filter(lambda x: \"#\" not in x[0]) \n",
    "records_txt.count()"
   ]
  },
  {
   "cell_type": "code",
   "execution_count": 4,
   "metadata": {
    "collapsed": false
   },
   "outputs": [
    {
     "name": "stdout",
     "output_type": "stream",
     "text": [
      "26025\n",
      "+---+---+\n",
      "|src|dst|\n",
      "+---+---+\n",
      "|  0|  1|\n",
      "|  0|  2|\n",
      "|  0|  3|\n",
      "|  0|  4|\n",
      "|  0|  5|\n",
      "+---+---+\n",
      "only showing top 5 rows\n",
      "\n"
     ]
    }
   ],
   "source": [
    "temp_var = records_txt.map(lambda x: x.split(\"\\t\"))\n",
    "edges = temp_var.toDF([\"src\", \"dst\"])\n",
    "print(edges.count())\n",
    "edges.show(5)"
   ]
  },
  {
   "cell_type": "code",
   "execution_count": 5,
   "metadata": {
    "collapsed": false
   },
   "outputs": [
    {
     "name": "stdout",
     "output_type": "stream",
     "text": [
      "8127\n",
      "+---+\n",
      "| id|\n",
      "+---+\n",
      "|  0|\n",
      "|  1|\n",
      "|  4|\n",
      "|  8|\n",
      "|  9|\n",
      "+---+\n",
      "only showing top 5 rows\n",
      "\n"
     ]
    }
   ],
   "source": [
    "temp_var = records_txt.flatMap(lambda k: k.split(\"\\t\")).distinct()\n",
    "print(temp_var.count())\n",
    "row = Row(\"id\") \n",
    "vertices = temp_var.map(row).toDF()\n",
    "vertices.show(5)"
   ]
  },
  {
   "cell_type": "code",
   "execution_count": 6,
   "metadata": {
    "collapsed": false
   },
   "outputs": [
    {
     "name": "stdout",
     "output_type": "stream",
     "text": [
      "GraphFrame(v:[id: string], e:[src: string, dst: string])\n"
     ]
    }
   ],
   "source": [
    "g = GraphFrame(vertices, edges)\n",
    "print(g)"
   ]
  },
  {
   "cell_type": "code",
   "execution_count": 7,
   "metadata": {
    "collapsed": false
   },
   "outputs": [
    {
     "name": "stdout",
     "output_type": "stream",
     "text": [
      "+----+---------+\n",
      "|  id|component|\n",
      "+----+---------+\n",
      "|   0|        0|\n",
      "|   1|        0|\n",
      "|   4|        0|\n",
      "|   8|        0|\n",
      "|   9|        0|\n",
      "|  10|        0|\n",
      "| 540|        0|\n",
      "| 581|        0|\n",
      "|1009|        0|\n",
      "|2044|        0|\n",
      "|2045|        0|\n",
      "|2046|        0|\n",
      "|2047|        0|\n",
      "|2048|        0|\n",
      "| 671|        0|\n",
      "|1562|        0|\n",
      "|1572|        0|\n",
      "|2004|        0|\n",
      "|2035|        0|\n",
      "|2036|        0|\n",
      "+----+---------+\n",
      "only showing top 20 rows\n",
      "\n"
     ]
    }
   ],
   "source": [
    "sc.setCheckpointDir(\"graphframes_cps\")\n",
    "result = g.connectedComponents()\n",
    "result.show()"
   ]
  },
  {
   "cell_type": "code",
   "execution_count": 8,
   "metadata": {
    "collapsed": true
   },
   "outputs": [],
   "source": [
    "grouped = result.groupby('component').count()"
   ]
  },
  {
   "cell_type": "code",
   "execution_count": 9,
   "metadata": {
    "collapsed": false
   },
   "outputs": [
    {
     "name": "stdout",
     "output_type": "stream",
     "text": [
      "[Row(component=0, count=8104)]\n"
     ]
    }
   ],
   "source": [
    "largest = grouped.sort('count', ascending=False).take(1)\n",
    "print(largest)"
   ]
  },
  {
   "cell_type": "code",
   "execution_count": 10,
   "metadata": {
    "collapsed": false
   },
   "outputs": [
    {
     "name": "stdout",
     "output_type": "stream",
     "text": [
      "[Row(component=1228360646692, count=1)]\n"
     ]
    }
   ],
   "source": [
    "smallest = grouped.sort('count', ascending=True).take(1)\n",
    "print(smallest)"
   ]
  },
  {
   "cell_type": "code",
   "execution_count": 11,
   "metadata": {
    "collapsed": false
   },
   "outputs": [
    {
     "name": "stdout",
     "output_type": "stream",
     "text": [
      "Time:  1101.8554163\n"
     ]
    }
   ],
   "source": [
    "stop = timeit.default_timer()\n",
    "print('Time: ', stop - start)  "
   ]
  }
 ],
 "metadata": {
  "kernelspec": {
   "display_name": "Python 3",
   "language": "python",
   "name": "python3"
  },
  "language_info": {
   "codemirror_mode": {
    "name": "ipython",
    "version": 3
   },
   "file_extension": ".py",
   "mimetype": "text/x-python",
   "name": "python",
   "nbconvert_exporter": "python",
   "pygments_lexer": "ipython3",
   "version": "3.6.8"
  }
 },
 "nbformat": 4,
 "nbformat_minor": 2
}
