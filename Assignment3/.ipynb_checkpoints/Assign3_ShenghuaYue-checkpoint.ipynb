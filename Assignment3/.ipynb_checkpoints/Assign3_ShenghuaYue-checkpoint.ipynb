{
 "cells": [
  {
   "cell_type": "code",
   "execution_count": 3,
   "metadata": {
    "collapsed": true
   },
   "outputs": [],
   "source": [
    "import pyspark"
   ]
  },
  {
   "cell_type": "code",
   "execution_count": 4,
   "metadata": {
    "collapsed": false
   },
   "outputs": [
    {
     "data": {
      "text/plain": [
       "970505"
      ]
     },
     "execution_count": 4,
     "metadata": {},
     "output_type": "execute_result"
    }
   ],
   "source": [
    "input_path = 'whitehouse_waves-2016_12.csv'\n",
    "records = spark.sparkContext.textFile(input_path)\n",
    "records.count()"
   ]
  },
  {
   "cell_type": "markdown",
   "metadata": {},
   "source": [
    "## remove the header / column names"
   ]
  },
  {
   "cell_type": "code",
   "execution_count": 14,
   "metadata": {
    "collapsed": false
   },
   "outputs": [
    {
     "data": {
      "text/plain": [
       "970504"
      ]
     },
     "execution_count": 14,
     "metadata": {},
     "output_type": "execute_result"
    }
   ],
   "source": [
    "## remove the header/first line/column names\n",
    "header = records.first()\n",
    "input_data = records.filter(lambda x: x != header)\n",
    "input_data.count()"
   ]
  },
  {
   "cell_type": "markdown",
   "metadata": {},
   "source": [
    "## drop invalid records and convert to lowercase"
   ]
  },
  {
   "cell_type": "code",
   "execution_count": 7,
   "metadata": {
    "collapsed": false
   },
   "outputs": [
    {
     "data": {
      "text/plain": [
       "911249"
      ]
     },
     "execution_count": 7,
     "metadata": {},
     "output_type": "execute_result"
    }
   ],
   "source": [
    "# a. if a visitor's last name (i.e., NAMELAST) is null/empty, then drop that record\n",
    "# b. if visitee_namelast is null/empty, then drop that record\n",
    "rdd_filter = input_data.map(lambda x: x.lower().split(',')).filter(lambda x: x[0] and x[19])\n",
    "rdd_filter.count()"
   ]
  },
  {
   "cell_type": "markdown",
   "metadata": {},
   "source": [
    "## Q1：The 10 most frequent visitors，（visitor, frequency）"
   ]
  },
  {
   "cell_type": "code",
   "execution_count": 8,
   "metadata": {
    "collapsed": false
   },
   "outputs": [
    {
     "data": {
      "text/plain": [
       "[(('thomas', 'benjamin', 'l'), 185),\n",
       " (('berner', 'katherine', 'k'), 176),\n",
       " (('haas', 'jordan', 'm'), 152),\n",
       " (('grant', 'patrick', 'c'), 151),\n",
       " (('kidwell', 'lauren', 'k'), 145),\n",
       " (('haro', 'steven', 'm'), 140),\n",
       " (('garza', 'steven', 'a'), 127),\n",
       " (('strait', 'elan', ''), 107),\n",
       " (('lew', 'shoshana', 'm'), 102),\n",
       " (('zeitlin', 'daniel', 'l'), 98)]"
      ]
     },
     "execution_count": 8,
     "metadata": {},
     "output_type": "execute_result"
    }
   ],
   "source": [
    "## (i) The 10 most frequent visitors (NAMELAST, NAMEFIRST, NAMEMID) to the White House. \n",
    "## <visitor> <frequency>\n",
    "rdd_mf_visitors = rdd_filter.map(lambda x: ((x[0],x[1],x[2]), 1)).reduceByKey(lambda a,b: a+b)\n",
    "rdd_mf_visitors.takeOrdered(10, key=lambda x: -x[1])\n"
   ]
  },
  {
   "cell_type": "markdown",
   "metadata": {},
   "source": [
    "## Q2：The 10 most frequently visited people，（visitee, frequency)"
   ]
  },
  {
   "cell_type": "code",
   "execution_count": 9,
   "metadata": {
    "collapsed": false
   },
   "outputs": [
    {
     "data": {
      "text/plain": [
       "[(('office', 'visitors'), 430881),\n",
       " (('waves', 'visitorsoffice'), 44129),\n",
       " (('bryant', 'ruth'), 13970),\n",
       " (('oneil', 'olivia'), 13155),\n",
       " (('thompson', 'jared'), 11618),\n",
       " (('/', 'potus'), 10900),\n",
       " (('burton', 'collin'), 9672),\n",
       " (('megan', 'matthew'), 7944),\n",
       " (('mayerson', 'asher'), 6886),\n",
       " (('dessources', 'kalisha'), 5289)]"
      ]
     },
     "execution_count": 9,
     "metadata": {},
     "output_type": "execute_result"
    }
   ],
   "source": [
    "## (ii) The 10 most frequently visited people (visitee_namelast, visitee_namefirst) in the White House.\n",
    "## <visitee> <frequency>\n",
    "rdd_mf_visitee = rdd_filter.map(lambda x: ((x[19],x[20]), 1)).reduceByKey(lambda a,b: a+b)\n",
    "rdd_mf_visitee.takeOrdered(10, key=lambda x: -x[1])"
   ]
  },
  {
   "cell_type": "markdown",
   "metadata": {},
   "source": [
    "## Q3：The 10 most frequently visitor-visitee combinations，（visitor-visitee, frequency)"
   ]
  },
  {
   "cell_type": "code",
   "execution_count": 10,
   "metadata": {
    "collapsed": false
   },
   "outputs": [
    {
     "data": {
      "text/plain": [
       "[(('haas', 'jordan', 'm', 'yudelson', 'alex'), 90),\n",
       " (('thomas', 'benjamin', 'l', 'yudelson', 'alex'), 89),\n",
       " (('grant', 'patrick', 'c', 'yudelson', 'alex'), 88),\n",
       " (('berner', 'katherine', 'k', 'yudelson', 'alex'), 82),\n",
       " (('roche', 'shannon', 'e', 'yudelson', 'alex'), 70),\n",
       " (('urizar', 'jennifer', 'a', 'johnson', 'katie'), 68),\n",
       " (('martin', 'kathryn', '', 'lambrew', 'jeanne'), 56),\n",
       " (('kidwell', 'lauren', 'k', 'abraham', 'yohannes'), 55),\n",
       " (('haas', 'jordan', 'm', 'abraham', 'yohannes'), 54),\n",
       " (('angerman', 'elizabeth', '', 'mader', 'david'), 54)]"
      ]
     },
     "execution_count": 10,
     "metadata": {},
     "output_type": "execute_result"
    }
   ],
   "source": [
    "## (iii) The 10 most frequent visitor-visitee combinations. <visitor-visitee> <frequency>\n",
    "rdd_mf_vv = rdd_filter.map(lambda x: ((x[0],x[1],x[2],x[19],x[20]), 1)).reduceByKey(lambda a,b: a+b)\n",
    "rdd_mf_vv.takeOrdered(10, key=lambda x: -x[1])"
   ]
  },
  {
   "cell_type": "markdown",
   "metadata": {},
   "source": [
    "##  Q4:  The number of records dropped "
   ]
  },
  {
   "cell_type": "code",
   "execution_count": 13,
   "metadata": {
    "collapsed": false
   },
   "outputs": [
    {
     "name": "stdout",
     "output_type": "stream",
     "text": [
      "Q4 The number of records dropped:  59255\n"
     ]
    }
   ],
   "source": [
    "## The number of records dropped.\n",
    "print(\"Q4 The number of records dropped: \", input_data.count() - rdd_filter.count())"
   ]
  },
  {
   "cell_type": "code",
   "execution_count": null,
   "metadata": {
    "collapsed": true
   },
   "outputs": [],
   "source": []
  }
 ],
 "metadata": {
  "kernelspec": {
   "display_name": "Python 3",
   "language": "python",
   "name": "python3"
  },
  "language_info": {
   "codemirror_mode": {
    "name": "ipython",
    "version": 3
   },
   "file_extension": ".py",
   "mimetype": "text/x-python",
   "name": "python",
   "nbconvert_exporter": "python",
   "pygments_lexer": "ipython3",
   "version": "3.6.8"
  }
 },
 "nbformat": 4,
 "nbformat_minor": 2
}
